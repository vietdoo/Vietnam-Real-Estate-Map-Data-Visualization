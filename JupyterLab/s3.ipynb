{
 "cells": [
  {
   "cell_type": "code",
   "execution_count": 18,
   "id": "d5661005",
   "metadata": {},
   "outputs": [],
   "source": [
    "import boto\n",
    "import boto.s3\n",
    "import sys\n",
    "from boto.s3.key import Key\n",
    "\n"
   ]
  },
  {
   "cell_type": "code",
   "execution_count": 27,
   "id": "a62338e5",
   "metadata": {},
   "outputs": [],
   "source": [
    "class S3():\n",
    "    def __init__(self):\n",
    "        self.client = boto3.client(\"s3\")\n",
    "    \n",
    "    def upload_file_to_s3(self, bucket_name, input_name, output_name):\n",
    "        self.client.upload_file(   \n",
    "            Filename = input_name,\n",
    "            Bucket = bucket_name,\n",
    "            Key = output_name)\n",
    "\n"
   ]
  },
  {
   "cell_type": "code",
   "execution_count": 24,
   "id": "8a138e4c",
   "metadata": {},
   "outputs": [],
   "source": [
    "\n",
    "S3().upload_file_to_s3(bucket_name = 'tigerlake', input_name = 'rain.png', output_name = 'images/rain12.png')"
   ]
  },
  {
   "cell_type": "code",
   "execution_count": 25,
   "id": "670b1810",
   "metadata": {},
   "outputs": [],
   "source": [
    "K = "
   ]
  },
  {
   "cell_type": "code",
   "execution_count": 28,
   "id": "e31b6301",
   "metadata": {},
   "outputs": [
    {
     "ename": "AttributeError",
     "evalue": "type object 'S3' has no attribute 'client'",
     "output_type": "error",
     "traceback": [
      "\u001b[0;31m---------------------------------------------------------------------------\u001b[0m",
      "\u001b[0;31mAttributeError\u001b[0m                            Traceback (most recent call last)",
      "Cell \u001b[0;32mIn[28], line 1\u001b[0m\n\u001b[0;32m----> 1\u001b[0m \u001b[43mS3\u001b[49m\u001b[38;5;241;43m.\u001b[39;49m\u001b[43mupload_file_to_s3\u001b[49m\u001b[43m(\u001b[49m\u001b[43mbucket_name\u001b[49m\u001b[43m \u001b[49m\u001b[38;5;241;43m=\u001b[39;49m\u001b[43m \u001b[49m\u001b[38;5;124;43m'\u001b[39;49m\u001b[38;5;124;43mtigerlake\u001b[39;49m\u001b[38;5;124;43m'\u001b[39;49m\u001b[43m,\u001b[49m\u001b[43m \u001b[49m\u001b[43minput_name\u001b[49m\u001b[43m \u001b[49m\u001b[38;5;241;43m=\u001b[39;49m\u001b[43m \u001b[49m\u001b[38;5;124;43m'\u001b[39;49m\u001b[38;5;124;43mrain.png\u001b[39;49m\u001b[38;5;124;43m'\u001b[39;49m\u001b[43m,\u001b[49m\u001b[43m \u001b[49m\u001b[43moutput_name\u001b[49m\u001b[43m \u001b[49m\u001b[38;5;241;43m=\u001b[39;49m\u001b[43m \u001b[49m\u001b[38;5;124;43m'\u001b[39;49m\u001b[38;5;124;43mimages/rain122.png\u001b[39;49m\u001b[38;5;124;43m'\u001b[39;49m\u001b[43m)\u001b[49m\n",
      "Cell \u001b[0;32mIn[27], line 6\u001b[0m, in \u001b[0;36mS3.upload_file_to_s3\u001b[0;34m(self, bucket_name, input_name, output_name)\u001b[0m\n\u001b[1;32m      4\u001b[0m \u001b[38;5;129m@classmethod\u001b[39m\n\u001b[1;32m      5\u001b[0m \u001b[38;5;28;01mdef\u001b[39;00m \u001b[38;5;21mupload_file_to_s3\u001b[39m(\u001b[38;5;28mself\u001b[39m, bucket_name, input_name, output_name):\n\u001b[0;32m----> 6\u001b[0m     \u001b[38;5;28;43mself\u001b[39;49m\u001b[38;5;241;43m.\u001b[39;49m\u001b[43mclient\u001b[49m\u001b[38;5;241m.\u001b[39mupload_file(   \n\u001b[1;32m      7\u001b[0m         Filename \u001b[38;5;241m=\u001b[39m input_name,\n\u001b[1;32m      8\u001b[0m         Bucket \u001b[38;5;241m=\u001b[39m bucket_name,\n\u001b[1;32m      9\u001b[0m         Key \u001b[38;5;241m=\u001b[39m output_name)\n",
      "\u001b[0;31mAttributeError\u001b[0m: type object 'S3' has no attribute 'client'"
     ]
    }
   ],
   "source": [
    "S3.upload_file_to_s3(bucket_name = 'tigerlake', input_name = 'rain.png', output_name = 'images/rain122.png')"
   ]
  },
  {
   "cell_type": "code",
   "execution_count": 3,
   "id": "b48aec0b",
   "metadata": {},
   "outputs": [],
   "source": [
    "import boto3\n",
    "\n",
    "\n",
    "\n",
    "\n",
    "s3."
   ]
  },
  {
   "cell_type": "code",
   "execution_count": null,
   "id": "49066354",
   "metadata": {},
   "outputs": [],
   "source": []
  }
 ],
 "metadata": {
  "kernelspec": {
   "display_name": "Python 3 (ipykernel)",
   "language": "python",
   "name": "python3"
  },
  "language_info": {
   "codemirror_mode": {
    "name": "ipython",
    "version": 3
   },
   "file_extension": ".py",
   "mimetype": "text/x-python",
   "name": "python",
   "nbconvert_exporter": "python",
   "pygments_lexer": "ipython3",
   "version": "3.10.6"
  }
 },
 "nbformat": 4,
 "nbformat_minor": 5
}
